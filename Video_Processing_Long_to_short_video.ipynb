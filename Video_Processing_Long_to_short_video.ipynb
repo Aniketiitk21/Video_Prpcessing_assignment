{
  "cells": [
    {
      "cell_type": "code",
      "execution_count": 2,
      "metadata": {
        "colab": {
          "base_uri": "https://localhost:8080/"
        },
        "id": "zmsQ5JPXo7kY",
        "outputId": "6194b1a7-9a8f-46aa-9a40-56184ccfdbab"
      },
      "outputs": [
        {
          "output_type": "stream",
          "name": "stdout",
          "text": [
            "Requirement already satisfied: opencv-python in /usr/local/lib/python3.10/dist-packages (4.8.0.76)\n",
            "Requirement already satisfied: moviepy in /usr/local/lib/python3.10/dist-packages (1.0.3)\n",
            "Requirement already satisfied: numpy in /usr/local/lib/python3.10/dist-packages (1.25.2)\n",
            "Requirement already satisfied: decorator<5.0,>=4.0.2 in /usr/local/lib/python3.10/dist-packages (from moviepy) (4.4.2)\n",
            "Requirement already satisfied: tqdm<5.0,>=4.11.2 in /usr/local/lib/python3.10/dist-packages (from moviepy) (4.66.4)\n",
            "Requirement already satisfied: requests<3.0,>=2.8.1 in /usr/local/lib/python3.10/dist-packages (from moviepy) (2.31.0)\n",
            "Requirement already satisfied: proglog<=1.0.0 in /usr/local/lib/python3.10/dist-packages (from moviepy) (0.1.10)\n",
            "Requirement already satisfied: imageio<3.0,>=2.5 in /usr/local/lib/python3.10/dist-packages (from moviepy) (2.31.6)\n",
            "Requirement already satisfied: imageio-ffmpeg>=0.2.0 in /usr/local/lib/python3.10/dist-packages (from moviepy) (0.4.9)\n",
            "Requirement already satisfied: pillow<10.1.0,>=8.3.2 in /usr/local/lib/python3.10/dist-packages (from imageio<3.0,>=2.5->moviepy) (9.4.0)\n",
            "Requirement already satisfied: setuptools in /usr/local/lib/python3.10/dist-packages (from imageio-ffmpeg>=0.2.0->moviepy) (67.7.2)\n",
            "Requirement already satisfied: charset-normalizer<4,>=2 in /usr/local/lib/python3.10/dist-packages (from requests<3.0,>=2.8.1->moviepy) (3.3.2)\n",
            "Requirement already satisfied: idna<4,>=2.5 in /usr/local/lib/python3.10/dist-packages (from requests<3.0,>=2.8.1->moviepy) (3.7)\n",
            "Requirement already satisfied: urllib3<3,>=1.21.1 in /usr/local/lib/python3.10/dist-packages (from requests<3.0,>=2.8.1->moviepy) (2.0.7)\n",
            "Requirement already satisfied: certifi>=2017.4.17 in /usr/local/lib/python3.10/dist-packages (from requests<3.0,>=2.8.1->moviepy) (2024.2.2)\n"
          ]
        }
      ],
      "source": [
        "pip install opencv-python moviepy numpy"
      ]
    },
    {
      "cell_type": "code",
      "execution_count": 3,
      "metadata": {
        "id": "go1RCbtD9Ng5"
      },
      "outputs": [],
      "source": [
        "import moviepy.editor as mp\n",
        "from moviepy.video.fx.fadein import fadein\n",
        "from moviepy.video.fx.fadeout import fadeout\n",
        "import cv2"
      ]
    },
    {
      "cell_type": "code",
      "execution_count": 9,
      "metadata": {
        "colab": {
          "base_uri": "https://localhost:8080/"
        },
        "collapsed": true,
        "id": "lPuFMqkcpG6H",
        "outputId": "2ea50669-079c-4c5a-8788-5eddd9199f79"
      },
      "outputs": [
        {
          "output_type": "stream",
          "name": "stdout",
          "text": [
            "Moviepy - Building video output_video.mp4.\n",
            "MoviePy - Writing audio in output_videoTEMP_MPY_wvf_snd.mp3\n"
          ]
        },
        {
          "output_type": "stream",
          "name": "stderr",
          "text": []
        },
        {
          "output_type": "stream",
          "name": "stdout",
          "text": [
            "MoviePy - Done.\n",
            "Moviepy - Writing video output_video.mp4\n",
            "\n"
          ]
        },
        {
          "output_type": "stream",
          "name": "stderr",
          "text": []
        },
        {
          "output_type": "stream",
          "name": "stdout",
          "text": [
            "Moviepy - Done !\n",
            "Moviepy - video ready output_video.mp4\n"
          ]
        }
      ],
      "source": [
        "import cv2\n",
        "import numpy as np\n",
        "from moviepy.editor import VideoFileClip, concatenate_videoclips, CompositeVideoClip, AudioFileClip\n",
        "from moviepy.video.fx.all import fadein, fadeout\n",
        "from moviepy.audio.fx.all import audio_loop\n",
        "\n",
        "# Define the interesting clips (start_time, end_time in seconds)\n",
        "clips_times = [(5, 10), (30, 35), (95, 100), (105, 110), (205, 210), (210, 215)]\n",
        "\n",
        "# Load the video\n",
        "input_video_path = '/content/New Robot Makes Soldiers Obsolete (Corridor Digital).mp4'\n",
        "cap = cv2.VideoCapture(input_video_path)\n",
        "fps = cap.get(cv2.CAP_PROP_FPS)\n",
        "frame_width = int(cap.get(cv2.CAP_PROP_FRAME_WIDTH))\n",
        "frame_height = int(cap.get(cv2.CAP_PROP_FRAME_HEIGHT))\n",
        "\n",
        "# Function to crop to 9:16 aspect ratio\n",
        "def crop_to_9_16(frame):\n",
        "    aspect_ratio = 9 / 16\n",
        "    new_width = int(frame_height * aspect_ratio)\n",
        "    start_x = (frame_width - new_width) // 2\n",
        "    cropped_frame = frame[:, start_x:start_x + new_width]\n",
        "    return cropped_frame\n",
        "\n",
        "# Extract and save clips\n",
        "def save_clips(clips_times, input_video_path, output_path_prefix='clip_'):\n",
        "    cap = cv2.VideoCapture(input_video_path)\n",
        "    for idx, (start, end) in enumerate(clips_times):\n",
        "        cap.set(cv2.CAP_PROP_POS_MSEC, start * 1000)\n",
        "        out = cv2.VideoWriter(f'{output_path_prefix}{idx}.mp4', cv2.VideoWriter_fourcc(*'mp4v'), fps, (int(frame_height * 9 / 16), frame_height))\n",
        "        while cap.get(cv2.CAP_PROP_POS_MSEC) < end * 1000:\n",
        "            ret, frame = cap.read()\n",
        "            if not ret:\n",
        "                break\n",
        "            cropped_frame = crop_to_9_16(frame)\n",
        "            out.write(cropped_frame)\n",
        "        out.release()\n",
        "    cap.release()\n",
        "\n",
        "save_clips(clips_times, input_video_path)\n",
        "\n",
        "# Load clips with moviepy\n",
        "clip_paths = [f'clip_{i}.mp4' for i in range(len(clips_times))]\n",
        "clips = [VideoFileClip(path) for path in clip_paths]\n",
        "\n",
        "# Apply transitions and concatenate clips\n",
        "fade_duration = 1\n",
        "trans_clips = []\n",
        "\n",
        "for i in range(len(clips) - 1):\n",
        "    clip = clips[i]\n",
        "    #next_clip = clips[i + 1]\n",
        "    fadeout_clip = fadeout(clip, fade_duration)\n",
        "    #fadein_next_clip = fadein(next_clip, fade_duration)\n",
        "    trans_clips.append(fadeout_clip)\n",
        "    #trans_clips.append(fadein_next_clip.set_start(clip.duration - fade_duration))\n",
        "\n",
        "# Add the last clip\n",
        "trans_clips.append(clips[-1])\n",
        "\n",
        "# Concatenate clips with transitions\n",
        "final_clip = concatenate_videoclips(trans_clips, method=\"compose\")\n",
        "\n",
        "# Add background music and loop it to match the video duration\n",
        "background_music = AudioFileClip(\"/content/latin-meeting-background-music-for-video-vlog-hip-hop-version-34-sec-207016.mp3\")\n",
        "\n",
        "# Loop the audio to match the video duration\n",
        "video_duration = final_clip.duration\n",
        "background_music = audio_loop(background_music, duration=video_duration)\n",
        "\n",
        "# Set the audio to the final clip\n",
        "final_clip = final_clip.set_audio(background_music.set_duration(video_duration))\n",
        "\n",
        "# Save the final video\n",
        "final_clip.write_videofile(\"output_video.mp4\", fps=fps)\n"
      ]
    }
  ],
  "metadata": {
    "accelerator": "GPU",
    "colab": {
      "gpuType": "T4",
      "provenance": []
    },
    "kernelspec": {
      "display_name": "Python 3",
      "name": "python3"
    },
    "language_info": {
      "name": "python"
    }
  },
  "nbformat": 4,
  "nbformat_minor": 0
}